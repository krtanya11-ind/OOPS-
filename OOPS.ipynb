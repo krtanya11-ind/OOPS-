{
  "nbformat": 4,
  "nbformat_minor": 0,
  "metadata": {
    "colab": {
      "provenance": []
    },
    "kernelspec": {
      "name": "python3",
      "display_name": "Python 3"
    },
    "language_info": {
      "name": "python"
    }
  },
  "cells": [
    {
      "cell_type": "markdown",
      "source": [
        "#OOPS\n",
        "1. What is Object-Oriented Programming (OOP)?\n",
        "- Object-Oriented Programming (OOP) is a programming paradigm based on the concept of \"objects\", which can contain:\n",
        "\n",
        "Data, in the form of attributes (also called fields or properties)\n",
        "\n",
        "Code, in the form of methods (functions that operate on the data)\n",
        "\n",
        "Key Concepts of OOP\n",
        "\n",
        "\n",
        "\n",
        "2. What is a class in OOP?\n",
        "\n",
        "- Class\n",
        "A blueprint for creating objects. It defines attributes and methods common to all objects of that type.\n",
        "\n",
        "3. What is an object in OOP?\n",
        "\n",
        "- Object (Instance)\n",
        "An individual instance of a class, with its own unique data.\n",
        "\n",
        "4. What is the difference between abstraction and encapsulation?\n",
        "\n",
        "- Abstraction is the concept of hiding unnecessary details and showing only the essential features of an object or system. It allows you to focus on what an object does, rather than how it does it.\n",
        "\n",
        "- Encapsulation is about bundling the data (variables) and the code (methods) that operate on that data into a single unit—usually a class. It also involves restricting direct access to some of the object's components, which is often done using access modifiers like private, protected, or public.\n",
        "\n",
        "5. What are dunder methods in Python?\n",
        "\n",
        "- Dunder methods in Python (short for \"double underscore\" methods, also known as magic methods or special methods) are special functions that have double underscores at the beginning and end of their names — like __init__, __str__, __len__, etc.\n",
        "\n",
        "They are used to define how Python objects behave with built-in functions and operators, and allow you to customize the behavior of your own classes.\n",
        "\n",
        "6. Explain the concept of inheritance in OOPH ?\n",
        "\n",
        "- Inheritance is a core concept in OOP that allows a class (called the child or subclass) to inherit properties and behaviors (i.e., attributes and methods) from another class (called the parent or superclass).\n",
        "\n",
        "It helps in code reuse, modularity, and establishing a clear hierarchical relationship between classes.\n",
        "\n",
        "7.  What is polymorphism in OOP?\n",
        "\n",
        "- Polymorphism is a concept in OOP that allows objects of different classes to be treated as objects of a common superclass. It means \"many forms\", and it allows the same operation or method name to behave differently depending on the object that is calling it.\n",
        "\n",
        "8. How is encapsulation achieved in Python?\n",
        "-  1. Using Access Modifiers (by naming conventions):\n",
        "\n",
        "Python uses a naming convention to indicate the intended level of access.\n",
        "\n",
        "a. Public Members (default):\n",
        "\n",
        "Accessible from anywhere.\n",
        "\n",
        "b. Protected Members (single underscore _):\n",
        "\n",
        "Intended to be used within the class and its subclasses (not enforced, just a convention).\n",
        "\n",
        "c. Private Members (double underscore __):\n",
        "\n",
        "Name mangling makes them harder to access from outside the class.\n",
        "\n",
        "9. What is a constructor in Python?\n",
        "\n",
        "- In Python, a constructor is a special method that gets automatically called when a new object of a class is created. Its main purpose is to initialize the object’s attributes (i.e., set up the initial state of the object).\n",
        "\n",
        "10. What are class and static methods in Python?\n",
        "\n",
        "- 1. Class Methods (@classmethod)\n",
        "\n",
        "A class method is bound to the class, not the instance.\n",
        "\n",
        "It takes cls (class) as the first parameter instead of self.\n",
        "\n",
        "It can access and modify class-level data.\n",
        "\n",
        "Defined using the @classmethod decorator.\n",
        "\n",
        " Use Case:\n",
        "\n",
        "To define factory methods (alternate constructors).\n",
        "\n",
        "To operate on class variables.\n",
        "\n",
        "\n",
        " 2. Static Methods (@staticmethod)\n",
        "A static method is not bound to the class or instance.\n",
        "\n",
        "It doesn’t take self or cls as the first parameter.\n",
        "\n",
        "It behaves like a regular function, but lives inside the class's namespace.\n",
        "\n",
        "Defined using the @staticmethod decorator.\n",
        "\n",
        "  Use Case:\n",
        "\n",
        "\n",
        " Utility/helper functions related to the class, but not needing access to class or instance data.\n",
        "\n",
        "11.  What is method overloading in Python?\n",
        "\n",
        "-Method Overloading is the concept of defining multiple methods with the same name but with different parameters (number or type). It allows a method to perform different tasks based on how it's called.\n",
        "\n",
        "12. What is method overriding in OOP?\n",
        "\n",
        "- Method overriding is a feature in OOP where a child class provides its own version of a method that is already defined in its parent class. This allows the child class to modify or extend the behavior of that method.\n",
        "\n",
        "13. What is a property decorator in Python?\n",
        "\n",
        "- The @property decorator is a built-in Python feature that allows you to define methods that behave like attributes. It helps you access, modify, and control instance variables in a clean, Pythonic way, without directly exposing the variables.\n",
        "\n",
        "14. Why is polymorphism important in OOP?\n",
        "\n",
        "- Flexibility and Extensibility\n",
        "\n",
        "\n",
        "Polymorphism allows you to write generic code that can work with objects of different classes, as long as they share a common interface (like having the same method name). This means you can add new classes without changing existing code, making your system easier to extend.\n",
        "\n",
        "Code Reusability\n",
        "\n",
        "\n",
        "You can use the same function or method call to work with different types of objects, reducing duplication and improving maintainability.\n",
        "\n",
        "Simplifies Code and Improves Readability\n",
        "\n",
        "\n",
        "By allowing objects to be treated uniformly (e.g., as instances of a parent class or interface), polymorphism makes the code cleaner and easier to understand.\n",
        "\n",
        "Supports Runtime Decision Making\n",
        "\n",
        "\n",
        "Polymorphism enables dynamic method dispatch, meaning the program decides at runtime which method implementation to call, based on the actual object's class. This adds flexibility in how objects behave.\n",
        "\n",
        "Promotes Loose Coupling\n",
        "\n",
        "\n",
        "Components communicate through shared interfaces or base classes rather than specific implementations, making your code less dependent on concrete classes and easier to modify.\n",
        "\n",
        "\n",
        "15. What is an abstract class in Python?\n",
        "\n",
        "\n",
        "- An abstract class is a class that cannot be instantiated directly and is meant to be a blueprint for other classes. It defines a common interface (methods and properties) that derived classes must implement.\n",
        "\n",
        "16. What are the advantages of OOP?\n",
        "\n",
        "- Advantages of OOP:\n",
        "\n",
        "Modularity\n",
        "\n",
        "\n",
        "Code is organized into separate objects or classes, making it easier to manage, understand, and debug.\n",
        "\n",
        "Reusability\n",
        "\n",
        "\n",
        "Classes and objects can be reused across different programs. Inheritance allows new classes to reuse existing code.\n",
        "\n",
        "Scalability and Maintainability\n",
        "\n",
        "Because of modular design and encapsulation, OOP systems are easier to scale and maintain over time.\n",
        "\n",
        "Encapsulation\n",
        "\n",
        "\n",
        "Data and methods are bundled together, and internal details are hidden from outside interference, increasing security and preventing accidental misuse.\n",
        "\n",
        "Polymorphism\n",
        "\n",
        "\n",
        "Allows different classes to be treated through the same interface, enabling flexible and interchangeable objects.\n",
        "\n",
        "Inheritance\n",
        "\n",
        "\n",
        "Helps in creating a hierarchy, allowing new classes to inherit properties and behaviors, reducing code duplication.\n",
        "\n",
        "Improved Productivity\n",
        "\n",
        "\n",
        "Reusing objects and building modular systems speeds up development.\n",
        "\n",
        "Real-World Modeling\n",
        "\n",
        "\n",
        "OOP allows you to model complex systems more naturally using objects that represent real-world entities.\n",
        "\n",
        "17. What is the difference between a class variable and an instance variable?\n",
        "\n",
        "- Class Variable\n",
        "\n",
        "Belongs to the class itself, shared by all instances of the class.\n",
        "\n",
        "There is only one copy of the variable, no matter how many objects you create.\n",
        "\n",
        "Used to store data or state that is common to all objects.\n",
        "\n",
        "Instance Variable\n",
        "\n",
        "Belongs to the individual object (instance).\n",
        "\n",
        "Each object has its own copy of the variable.\n",
        "\n",
        "Used to store data unique to each object.\n",
        "\n",
        "18. What is multiple inheritance in Python?\n",
        "\n",
        "\n",
        "- Multiple inheritance is a feature where a class can inherit attributes and methods from more than one parent class.\n",
        "\n",
        "19. Explain the purpose of ‘’__str__’ and ‘__repr__’ ‘ methods in Python?\n",
        "\n",
        "- __str__ — User-friendly string representation\n",
        "\n",
        "Purpose: To return a readable and informal string representation of an object.\n",
        "\n",
        "Used by: The print() function and str().\n",
        "\n",
        "__repr__ — Developer/debug representation\n",
        "\n",
        "Purpose: To return a formal and unambiguous string that ideally can be used to recreate the object.\n",
        "\n",
        "Used by: The repr() function, and in interactive consoles (e.g., if you just type book).\n",
        "\n",
        "\n",
        "20. What is the significance of the ‘super()’ function in Python?\n",
        "\n",
        "- The super() function in Python is used to call methods from a parent (super) class. It’s especially important in inheritance, where a child class wants to extend or modify the behavior of its parent class without rewriting everything.\n",
        "\n",
        "21. What is the significance of the __del__ method in Python?\n",
        "\n",
        "- The __del__ method in Python is a special method known as a destructor. It is automatically called when an object is about to be destroyed, usually when there are no more references to it.\n",
        "\n",
        "22. What is the difference between @staticmethod and @classmethod in Python?\n",
        "\n",
        "- @staticmethod\n",
        "\n",
        "Does NOT take self or cls as a parameter.\n",
        "\n",
        "It behaves like a regular function, but is placed inside a class for organizational purposes.\n",
        "\n",
        "Cannot access or modify class or instance state.\n",
        "\n",
        "- @classmethod\n",
        "Takes cls as the first parameter, which refers to the class (not the instance).\n",
        "\n",
        "Can access or modify class-level variables or methods.\n",
        "\n",
        "Works even when called from a subclass (useful for factory methods or alternative constructors).\n",
        "\n",
        "\n",
        "23. How does polymorphism work in Python with inheritance?\n",
        "\n",
        "- In Python, it allows different classes to have methods with the same name, and the correct method is called based on the object’s actual type, not just its reference.\n",
        "\n",
        "  This is often used with inheritance, where child classes override methods of the parent class.\n",
        "\n",
        "  How it works:\n",
        "\n",
        "A base (parent) class defines a method.\n",
        "\n",
        "Subclasses (child classes) override that method.\n",
        "\n",
        "Polymorphism allows calling the same method on different objects, and Python will call the correct version based on the object's class.\n",
        "\n",
        "\n",
        "24.  What is method chaining in Python OOP?\n",
        "\n",
        "-  Method chaining is a technique in object-oriented programming (OOP) where multiple methods are called sequentially on the same object in a single line of code.\n",
        "\n",
        "This is possible when each method returns self, allowing the next method to continue acting on the same object.\n",
        "\n",
        "25. What is the purpose of the __call__ method in Python?\n",
        "\n",
        "- __call__ is a special method in Python that allows an instance of a class to be called like a function.\n",
        "\n",
        "If a class defines a __call__ method, you can “call” an object of that class using parentheses\n",
        "\n",
        "\n",
        "\n",
        "\n",
        "\n"
      ],
      "metadata": {
        "id": "_-4HtZWrSwpu"
      }
    },
    {
      "cell_type": "markdown",
      "source": [
        "#PRACTIAL QUESTION\n",
        "\n",
        "1.  Create a parent class Animal with a method speak() that prints a generic message. Create a child class Dog\n",
        "that overrides the speak() method to print \"Bark!\"."
      ],
      "metadata": {
        "id": "udFeFaL5jV4e"
      }
    },
    {
      "cell_type": "code",
      "source": [
        "# Parent class\n",
        "class Animal:\n",
        "    def speak(self):\n",
        "        print(\"The animal makes a sound.\")\n",
        "\n",
        "# Child class\n",
        "class Dog(Animal):\n",
        "    def speak(self):\n",
        "        print(\"Bark!\")\n",
        "\n",
        "# Example usage\n",
        "generic_animal = Animal()\n",
        "generic_animal.speak()  # Output: The animal makes a sound.\n",
        "\n",
        "dog = Dog()\n",
        "dog.speak()  # Output: Bark!\n"
      ],
      "metadata": {
        "colab": {
          "base_uri": "https://localhost:8080/"
        },
        "id": "vmsY82NJjubK",
        "outputId": "51728be3-dc0c-4331-d4fc-beafc2758feb"
      },
      "execution_count": 1,
      "outputs": [
        {
          "output_type": "stream",
          "name": "stdout",
          "text": [
            "The animal makes a sound.\n",
            "Bark!\n"
          ]
        }
      ]
    },
    {
      "cell_type": "markdown",
      "source": [
        " 2. Write a program to create an abstract class Shape with a method area(). Derive classes Circle and Rectangle\n",
        "from it and implement the area() method in both."
      ],
      "metadata": {
        "id": "sqsvDgLskLHi"
      }
    },
    {
      "cell_type": "code",
      "source": [
        "from abc import ABC, abstractmethod\n",
        "import math\n",
        "\n",
        "# Abstract base class\n",
        "class Shape(ABC):\n",
        "\n",
        "    @abstractmethod\n",
        "    def area(self):\n",
        "        pass\n",
        "\n",
        "# Derived class: Circle\n",
        "class Circle(Shape):\n",
        "    def __init__(self, radius):\n",
        "        self.radius = radius\n",
        "\n",
        "    def area(self):\n",
        "        return math.pi * self.radius ** 2\n",
        "\n",
        "# Derived class: Rectangle\n",
        "class Rectangle(Shape):\n",
        "    def __init__(self, width, height):\n",
        "        self.width = width\n",
        "        self.height = height\n",
        "\n",
        "    def area(self):\n",
        "        return self.width * self.height\n",
        "\n",
        "# Example usage\n",
        "circle = Circle(5)\n",
        "rectangle = Rectangle(4, 6)\n",
        "\n",
        "print(f\"Circle area: {circle.area():.2f}\")       # Output: Circle area: 78.54\n",
        "print(f\"Rectangle area: {rectangle.area():.2f}\") # Output: Rectangle area: 24.00\n"
      ],
      "metadata": {
        "colab": {
          "base_uri": "https://localhost:8080/"
        },
        "id": "6X_Ex-p5kpqB",
        "outputId": "00750d96-c6f1-47f5-fdf2-7719303a76ae"
      },
      "execution_count": 2,
      "outputs": [
        {
          "output_type": "stream",
          "name": "stdout",
          "text": [
            "Circle area: 78.54\n",
            "Rectangle area: 24.00\n"
          ]
        }
      ]
    },
    {
      "cell_type": "markdown",
      "source": [
        "3. Implement a multi-level inheritance scenario where a class Vehicle has an attribute type. Derive a class Car\n",
        "and further derive a class ElectricCar that adds a battery attribute."
      ],
      "metadata": {
        "id": "qeHx_acGlib5"
      }
    },
    {
      "cell_type": "code",
      "source": [
        "# Base class\n",
        "class Vehicle:\n",
        "    def __init__(self, type):\n",
        "        self.type = type\n",
        "\n",
        "# Derived class from Vehicle\n",
        "class Car(Vehicle):\n",
        "    def __init__(self, type, brand):\n",
        "        super().__init__(type)\n",
        "        self.brand = brand\n",
        "\n",
        "# Further derived class from Car\n",
        "class ElectricCar(Car):\n",
        "    def __init__(self, type, brand, battery_capacity):\n",
        "        super().__init__(type, brand)\n",
        "        self.battery_capacity = battery_capacity\n",
        "\n",
        "    def display_info(self):\n",
        "        print(f\"Type: {self.type}\")\n",
        "        print(f\"Brand: {self.brand}\")\n",
        "        print(f\"Battery Capacity: {self.battery_capacity} kWh\")\n",
        "\n",
        "# Example usage\n",
        "my_tesla = ElectricCar(\"Electric Vehicle\", \"Tesla\", 75)\n",
        "my_tesla.display_info()\n"
      ],
      "metadata": {
        "colab": {
          "base_uri": "https://localhost:8080/"
        },
        "id": "BkxLD-nulhLx",
        "outputId": "3a91b701-d3e0-4ac5-d944-8d6e6836fbc6"
      },
      "execution_count": 3,
      "outputs": [
        {
          "output_type": "stream",
          "name": "stdout",
          "text": [
            "Type: Electric Vehicle\n",
            "Brand: Tesla\n",
            "Battery Capacity: 75 kWh\n"
          ]
        }
      ]
    },
    {
      "cell_type": "markdown",
      "source": [
        "4. Demonstrate polymorphism by creating a base class Bird with a method fly(). Create two derived classes\n",
        "Sparrow and Penguin that override the fly() method"
      ],
      "metadata": {
        "id": "Dt3mjEqqluTK"
      }
    },
    {
      "cell_type": "code",
      "source": [
        "# Base class\n",
        "class Bird:\n",
        "    def fly(self):\n",
        "        print(\"This bird can fly.\")\n",
        "\n",
        "# Derived class: Sparrow\n",
        "class Sparrow(Bird):\n",
        "    def fly(self):\n",
        "        print(\"Sparrow flies high in the sky.\")\n",
        "\n",
        "# Derived class: Penguin\n",
        "class Penguin(Bird):\n",
        "    def fly(self):\n",
        "        print(\"Penguins can't fly, but they swim well.\")\n",
        "\n",
        "# Polymorphism in action\n",
        "def bird_fly_test(bird):\n",
        "    bird.fly()\n",
        "\n",
        "# Example usage\n",
        "bird1 = Sparrow()\n",
        "bird2 = Penguin()\n",
        "\n",
        "bird_fly_test(bird1)  # Output: Sparrow flies high in the sky.\n",
        "bird_fly_test(bird2)  # Output: Penguins can't fly, but they swim well.\n"
      ],
      "metadata": {
        "colab": {
          "base_uri": "https://localhost:8080/"
        },
        "id": "EbL5gjVRl60C",
        "outputId": "6f7e1d09-89a6-4202-ce42-af482fe23b47"
      },
      "execution_count": 4,
      "outputs": [
        {
          "output_type": "stream",
          "name": "stdout",
          "text": [
            "Sparrow flies high in the sky.\n",
            "Penguins can't fly, but they swim well.\n"
          ]
        }
      ]
    },
    {
      "cell_type": "markdown",
      "source": [
        "5. Write a program to demonstrate encapsulation by creating a class BankAccount with private attributes\n",
        "balance and methods to deposit, withdraw, and check balance."
      ],
      "metadata": {
        "id": "orwArel0mN9y"
      }
    },
    {
      "cell_type": "code",
      "source": [
        "class BankAccount:\n",
        "    def __init__(self, initial_balance=0):\n",
        "        self.__balance = initial_balance  # private attribute\n",
        "\n",
        "    def deposit(self, amount):\n",
        "        if amount > 0:\n",
        "            self.__balance += amount\n",
        "            print(f\"Deposited: ${amount}\")\n",
        "        else:\n",
        "            print(\"Deposit amount must be positive.\")\n",
        "\n",
        "    def withdraw(self, amount):\n",
        "        if amount > 0:\n",
        "            if amount <= self.__balance:\n",
        "                self.__balance -= amount\n",
        "                print(f\"Withdrew: ${amount}\")\n",
        "            else:\n",
        "                print(\"Insufficient balance.\")\n",
        "        else:\n",
        "            print(\"Withdrawal amount must be positive.\")\n",
        "\n",
        "    def check_balance(self):\n",
        "        print(f\"Current Balance: ${self.__balance}\")\n",
        "\n",
        "# Example usage\n",
        "account = BankAccount(100)\n",
        "account.check_balance()     # Output: Current Balance: $100\n",
        "account.deposit(50)         # Output: Deposited: $50\n",
        "account.withdraw(30)        # Output: Withdrew: $30\n",
        "account.check_balance()     # Output: Current Balance: $120\n",
        "\n",
        "# Trying to access the private attribute directly (not recommended)\n",
        "# print(account.__balance)  # This will raise an AttributeError\n"
      ],
      "metadata": {
        "colab": {
          "base_uri": "https://localhost:8080/"
        },
        "id": "mf0W1MSimavI",
        "outputId": "13373d7a-0401-45c5-cbcf-6ee6d1f81099"
      },
      "execution_count": 5,
      "outputs": [
        {
          "output_type": "stream",
          "name": "stdout",
          "text": [
            "Current Balance: $100\n",
            "Deposited: $50\n",
            "Withdrew: $30\n",
            "Current Balance: $120\n"
          ]
        }
      ]
    },
    {
      "cell_type": "markdown",
      "source": [
        "6. Demonstrate runtime polymorphism using a method play() in a base class Instrument. Derive classes Guitar\n",
        "and Piano that implement their own version of play()."
      ],
      "metadata": {
        "id": "c8puxOBkmxeB"
      }
    },
    {
      "cell_type": "code",
      "source": [
        "# Base class\n",
        "class Instrument:\n",
        "    def play(self):\n",
        "        print(\"The instrument is playing.\")\n",
        "\n",
        "# Derived class: Guitar\n",
        "class Guitar(Instrument):\n",
        "    def play(self):\n",
        "        print(\"Strumming the guitar strings.\")\n",
        "\n",
        "# Derived class: Piano\n",
        "class Piano(Instrument):\n",
        "    def play(self):\n",
        "        print(\"Playing the piano keys.\")\n",
        "\n",
        "# Function demonstrating runtime polymorphism\n",
        "def perform_play(instrument: Instrument):\n",
        "    instrument.play()\n",
        "\n",
        "# Example usage\n",
        "g = Guitar()\n",
        "p = Piano()\n",
        "\n",
        "perform_play(g)  # Output: Strumming the guitar strings.\n",
        "perform_play(p)  # Output: Playing the piano keys.\n"
      ],
      "metadata": {
        "colab": {
          "base_uri": "https://localhost:8080/"
        },
        "id": "xOddBCpjm3D6",
        "outputId": "81f71cd6-531d-4550-ca21-767b191c9ce9"
      },
      "execution_count": 6,
      "outputs": [
        {
          "output_type": "stream",
          "name": "stdout",
          "text": [
            "Strumming the guitar strings.\n",
            "Playing the piano keys.\n"
          ]
        }
      ]
    },
    {
      "cell_type": "markdown",
      "source": [
        "\n",
        "7. Create a class MathOperations with a class method add_numbers() to add two numbers and a static\n",
        "method subtract_numbers() to subtract two numbers"
      ],
      "metadata": {
        "id": "Q90k5OKHnK0J"
      }
    },
    {
      "cell_type": "code",
      "source": [
        "class MathOperations:\n",
        "\n",
        "    @classmethod\n",
        "    def add_numbers(cls, a, b):\n",
        "        return a + b\n",
        "\n",
        "    @staticmethod\n",
        "    def subtract_numbers(a, b):\n",
        "        return a - b\n",
        "\n",
        "# Example usage\n",
        "sum_result = MathOperations.add_numbers(10, 5)\n",
        "print(f\"Sum: {sum_result}\")  # Output: Sum: 15\n",
        "\n",
        "difference = MathOperations.subtract_numbers(10, 5)\n",
        "print(f\"Difference: {difference}\")  # Output: Difference: 5\n"
      ],
      "metadata": {
        "colab": {
          "base_uri": "https://localhost:8080/"
        },
        "id": "30-HEg86nU5B",
        "outputId": "f6dde2fa-433a-4d29-b029-3ad3a2db1575"
      },
      "execution_count": 7,
      "outputs": [
        {
          "output_type": "stream",
          "name": "stdout",
          "text": [
            "Sum: 15\n",
            "Difference: 5\n"
          ]
        }
      ]
    },
    {
      "cell_type": "markdown",
      "source": [
        "8. Implement a class Person with a class method to count the total number of persons created."
      ],
      "metadata": {
        "id": "R0l2wgXUnhcB"
      }
    },
    {
      "cell_type": "code",
      "source": [
        "class Person:\n",
        "    count = 0  # Class variable to track number of Person instances\n",
        "\n",
        "    def __init__(self, name):\n",
        "        self.name = name\n",
        "        Person.count += 1  # Increment count whenever a new object is created\n",
        "\n",
        "    @classmethod\n",
        "    def get_person_count(cls):\n",
        "        return cls.count\n",
        "\n",
        "# Example usage\n",
        "p1 = Person(\"Alice\")\n",
        "p2 = Person(\"Bob\")\n",
        "p3 = Person(\"Charlie\")\n",
        "\n",
        "print(f\"Total number of persons created: {Person.get_person_count()}\")\n",
        "# Output: Total number of persons created: 3\n"
      ],
      "metadata": {
        "colab": {
          "base_uri": "https://localhost:8080/"
        },
        "id": "zUa3MZaunm0Z",
        "outputId": "2ae8f47b-98e2-4f6f-d889-23d58df48e0f"
      },
      "execution_count": 8,
      "outputs": [
        {
          "output_type": "stream",
          "name": "stdout",
          "text": [
            "Total number of persons created: 3\n"
          ]
        }
      ]
    },
    {
      "cell_type": "markdown",
      "source": [
        "9. Write a class Fraction with attributes numerator and denominator. Override the str method to display the\n",
        "fraction as \"numerator/denominator\"."
      ],
      "metadata": {
        "id": "tzNL2aKUn2At"
      }
    },
    {
      "cell_type": "code",
      "source": [
        "class Fraction:\n",
        "    def __init__(self, numerator, denominator):\n",
        "        if denominator == 0:\n",
        "            raise ValueError(\"Denominator cannot be zero.\")\n",
        "        self.numerator = numerator\n",
        "        self.denominator = denominator\n",
        "\n",
        "    def __str__(self):\n",
        "        return f\"{self.numerator}/{self.denominator}\"\n",
        "\n",
        "# Example usage\n",
        "f1 = Fraction(3, 4)\n",
        "print(f1)  # Output: 3/4\n",
        "\n",
        "f2 = Fraction(5, 1)\n",
        "print(f2)  # Output: 5/1\n"
      ],
      "metadata": {
        "colab": {
          "base_uri": "https://localhost:8080/"
        },
        "id": "2hiu4-R1oKvp",
        "outputId": "69ecebb0-9daf-4797-ddec-fc83314eba17"
      },
      "execution_count": 9,
      "outputs": [
        {
          "output_type": "stream",
          "name": "stdout",
          "text": [
            "3/4\n",
            "5/1\n"
          ]
        }
      ]
    },
    {
      "cell_type": "markdown",
      "source": [
        "10. Demonstrate operator overloading by creating a class Vector and overriding the add method to add two\n",
        "vectors."
      ],
      "metadata": {
        "id": "CgTj8bW1oVXJ"
      }
    },
    {
      "cell_type": "code",
      "source": [
        "class Vector:\n",
        "    def __init__(self, x, y):\n",
        "        self.x = x\n",
        "        self.y = y\n",
        "\n",
        "    def __add__(self, other):\n",
        "        if isinstance(other, Vector):\n",
        "            return Vector(self.x + other.x, self.y + other.y)\n",
        "        raise TypeError(\"Operands must be of type Vector\")\n",
        "\n",
        "    def __str__(self):\n",
        "        return f\"Vector({self.x}, {self.y})\"\n",
        "\n",
        "# Example usage\n",
        "v1 = Vector(2, 3)\n",
        "v2 = Vector(4, 5)\n",
        "v3 = v1 + v2\n",
        "\n",
        "print(v1)  # Output: Vector(2, 3)\n",
        "print(v2)  # Output: Vector(4, 5)\n",
        "print(v3)  # Output: Vector(6, 8)\n"
      ],
      "metadata": {
        "colab": {
          "base_uri": "https://localhost:8080/"
        },
        "id": "n5Mt9jPgoeq6",
        "outputId": "c226f8f9-4447-4335-d888-19f01611855a"
      },
      "execution_count": 10,
      "outputs": [
        {
          "output_type": "stream",
          "name": "stdout",
          "text": [
            "Vector(2, 3)\n",
            "Vector(4, 5)\n",
            "Vector(6, 8)\n"
          ]
        }
      ]
    },
    {
      "cell_type": "markdown",
      "source": [
        "11. Create a class Person with attributes name and age. Add a method greet() that prints \"Hello, my name is\n",
        "{name} and I am {age} years old.\""
      ],
      "metadata": {
        "id": "--wMP5zjosdA"
      }
    },
    {
      "cell_type": "code",
      "source": [
        "class Person:\n",
        "    def __init__(self, name, age):\n",
        "        self.name = name\n",
        "        self.age = age\n",
        "\n",
        "    def greet(self):\n",
        "        print(f\"Hello, my name is {self.name} and I am {self.age} years old.\")\n",
        "\n",
        "# Creating an object and calling greet()\n",
        "p1 = Person(\"Alice\", 30)\n",
        "p1.greet()\n"
      ],
      "metadata": {
        "colab": {
          "base_uri": "https://localhost:8080/"
        },
        "id": "YQvDGBXqqZpx",
        "outputId": "247b2b50-bdf6-4810-a091-e96053958d0f"
      },
      "execution_count": 16,
      "outputs": [
        {
          "output_type": "stream",
          "name": "stdout",
          "text": [
            "Hello, my name is Alice and I am 30 years old.\n"
          ]
        }
      ]
    },
    {
      "cell_type": "markdown",
      "source": [
        "12. Implement a class Student with attributes name and grades. Create a method average_grade() to compute\n",
        "the average of the grades."
      ],
      "metadata": {
        "id": "YsXMEb0Aqe1I"
      }
    },
    {
      "cell_type": "code",
      "source": [
        "class Student:\n",
        "    def __init__(self, name, grades):\n",
        "        self.name = name\n",
        "        self.grades = grades  # Expecting a list of numbers\n",
        "\n",
        "    def average_grade(self):\n",
        "        if not self.grades:\n",
        "            return 0  # Handle case of empty grades list\n",
        "        return sum(self.grades) / len(self.grades)\n",
        "\n",
        "# Example usage\n",
        "student = Student(\"John\", [85, 90, 78, 92])\n",
        "print(f\"{student.name}'s average grade is: {student.average_grade():.2f}\")\n"
      ],
      "metadata": {
        "colab": {
          "base_uri": "https://localhost:8080/"
        },
        "id": "bxSsr2iIqjFR",
        "outputId": "81402ef4-c7c1-4222-cbe3-cc5b2ba1fb30"
      },
      "execution_count": 17,
      "outputs": [
        {
          "output_type": "stream",
          "name": "stdout",
          "text": [
            "John's average grade is: 86.25\n"
          ]
        }
      ]
    },
    {
      "cell_type": "markdown",
      "source": [
        "13. Create a class Rectangle with methods set_dimensions() to set the dimensions and area() to calculate the\n",
        "area."
      ],
      "metadata": {
        "id": "FO8UYTjfqv4o"
      }
    },
    {
      "cell_type": "code",
      "source": [
        "class Rectangle:\n",
        "    def __init__(self):\n",
        "        self.width = 0\n",
        "        self.height = 0\n",
        "\n",
        "    def set_dimensions(self, width, height):\n",
        "        self.width = width\n",
        "        self.height = height\n",
        "\n",
        "    def area(self):\n",
        "        return self.width * self.height\n",
        "\n",
        "# Example usage\n",
        "rect = Rectangle()\n",
        "rect.set_dimensions(5, 10)\n",
        "print(f\"Area of the rectangle: {rect.area()}\")\n"
      ],
      "metadata": {
        "colab": {
          "base_uri": "https://localhost:8080/"
        },
        "id": "ILrP_yOOq1qR",
        "outputId": "23748639-3276-43d3-9561-4011730329b7"
      },
      "execution_count": 18,
      "outputs": [
        {
          "output_type": "stream",
          "name": "stdout",
          "text": [
            "Area of the rectangle: 50\n"
          ]
        }
      ]
    },
    {
      "cell_type": "markdown",
      "source": [
        "14. Create a class Employee with a method calculate_salary() that computes the salary based on hours worked\n",
        "and hourly rate. Create a derived class Manager that adds a bonus to the salary"
      ],
      "metadata": {
        "id": "1lpOeM_-sxaS"
      }
    },
    {
      "cell_type": "code",
      "source": [
        "# Base class\n",
        "class Employee:\n",
        "    def __init__(self, name):\n",
        "        self.name = name\n",
        "\n",
        "    def calculate_salary(self, hours_worked, hourly_rate):\n",
        "        salary = hours_worked * hourly_rate\n",
        "        return salary\n",
        "\n",
        "# Derived class\n",
        "class Manager(Employee):\n",
        "    def __init__(self, name, bonus):\n",
        "        super().__init__(name)\n",
        "        self.bonus = bonus\n",
        "\n",
        "    def calculate_salary(self, hours_worked, hourly_rate):\n",
        "        base_salary = super().calculate_salary(hours_worked, hourly_rate)\n",
        "        total_salary = base_salary + self.bonus\n",
        "        return total_salary\n",
        "\n",
        "# Example usage\n",
        "if __name__ == \"__main__\":\n",
        "    emp = Employee(\"Alice\")\n",
        "    mgr = Manager(\"Bob\", bonus=1000)\n",
        "\n",
        "    print(f\"{emp.name}'s salary: ${emp.calculate_salary(40, 25)}\")\n",
        "    print(f\"{mgr.name}'s salary: ${mgr.calculate_salary(40, 25)}\")\n"
      ],
      "metadata": {
        "colab": {
          "base_uri": "https://localhost:8080/"
        },
        "id": "-4kRM9citEWo",
        "outputId": "ff112fd8-0474-4c42-b774-0cde6eaf9708"
      },
      "execution_count": 19,
      "outputs": [
        {
          "output_type": "stream",
          "name": "stdout",
          "text": [
            "Alice's salary: $1000\n",
            "Bob's salary: $2000\n"
          ]
        }
      ]
    },
    {
      "cell_type": "markdown",
      "source": [
        "15. Create a class Product with attributes name, price, and quantity. Implement a method total_price() that\n",
        "calculates the total price of the product"
      ],
      "metadata": {
        "id": "XZz2bf5DtOxw"
      }
    },
    {
      "cell_type": "code",
      "source": [
        "class Product:\n",
        "    def __init__(self, name, price, quantity):\n",
        "        self.name = name\n",
        "        self.price = price\n",
        "        self.quantity = quantity\n",
        "\n",
        "    def total_price(self):\n",
        "        return self.price * self.quantity\n",
        "\n",
        "# Example usage\n",
        "if __name__ == \"__main__\":\n",
        "    product1 = Product(\"Laptop\", 800, 2)\n",
        "    product2 = Product(\"Headphones\", 150, 3)\n",
        "\n",
        "    print(f\"Total price for {product1.name}: ${product1.total_price()}\")\n",
        "    print(f\"Total price for {product2.name}: ${product2.total_price()}\")\n"
      ],
      "metadata": {
        "colab": {
          "base_uri": "https://localhost:8080/"
        },
        "id": "ooFsc00ntQRg",
        "outputId": "1a4e80a9-54d6-40bf-cf17-aac1eb809e2a"
      },
      "execution_count": 20,
      "outputs": [
        {
          "output_type": "stream",
          "name": "stdout",
          "text": [
            "Total price for Laptop: $1600\n",
            "Total price for Headphones: $450\n"
          ]
        }
      ]
    },
    {
      "cell_type": "markdown",
      "source": [
        "16. Create a class Animal with an abstract method sound(). Create two derived classes Cow and Sheep that\n",
        "implement the sound() method."
      ],
      "metadata": {
        "id": "2msO_DjgtZv3"
      }
    },
    {
      "cell_type": "code",
      "source": [
        "from abc import ABC, abstractmethod\n",
        "\n",
        "# Abstract base class\n",
        "class Animal(ABC):\n",
        "    @abstractmethod\n",
        "    def sound(self):\n",
        "        pass\n",
        "\n",
        "# Derived class 1\n",
        "class Cow(Animal):\n",
        "    def sound(self):\n",
        "        return \"Moo\"\n",
        "\n",
        "# Derived class 2\n",
        "class Sheep(Animal):\n",
        "    def sound(self):\n",
        "        return \"Baa\"\n",
        "\n",
        "# Example usage\n",
        "if __name__ == \"__main__\":\n",
        "    cow = Cow()\n",
        "    sheep = Sheep()\n",
        "\n",
        "    print(f\"Cow sound: {cow.sound()}\")\n",
        "    print(f\"Sheep sound: {sheep.sound()}\")\n"
      ],
      "metadata": {
        "colab": {
          "base_uri": "https://localhost:8080/"
        },
        "id": "Logtu0QZthxw",
        "outputId": "6e25a214-0a64-4dd5-8b0f-b73e63ea996a"
      },
      "execution_count": 21,
      "outputs": [
        {
          "output_type": "stream",
          "name": "stdout",
          "text": [
            "Cow sound: Moo\n",
            "Sheep sound: Baa\n"
          ]
        }
      ]
    },
    {
      "cell_type": "markdown",
      "source": [
        "17. Create a class Book with attributes title, author, and year_published. Add a method get_book_info() that\n",
        "returns a formatted string with the book's details."
      ],
      "metadata": {
        "id": "yrlwkGtStxYA"
      }
    },
    {
      "cell_type": "code",
      "source": [
        "class Book:\n",
        "    def __init__(self, title, author, year_published):\n",
        "        self.title = title\n",
        "        self.author = author\n",
        "        self.year_published = year_published\n",
        "\n",
        "    def get_book_info(self):\n",
        "        return f\"'{self.title}' by {self.author} (Published: {self.year_published})\"\n",
        "\n",
        "# Example usage\n",
        "if __name__ == \"__main__\":\n",
        "    book1 = Book(\"1984\", \"George Orwell\", 1949)\n",
        "    book2 = Book(\"To Kill a Mockingbird\", \"Harper Lee\", 1960)\n",
        "\n",
        "    print(book1.get_book_info())\n",
        "    print(book2.get_book_info())\n"
      ],
      "metadata": {
        "colab": {
          "base_uri": "https://localhost:8080/"
        },
        "id": "tIZkbnfEtyn3",
        "outputId": "27977f49-518d-4848-fc0d-0105eae2bb86"
      },
      "execution_count": 22,
      "outputs": [
        {
          "output_type": "stream",
          "name": "stdout",
          "text": [
            "'1984' by George Orwell (Published: 1949)\n",
            "'To Kill a Mockingbird' by Harper Lee (Published: 1960)\n"
          ]
        }
      ]
    },
    {
      "cell_type": "markdown",
      "source": [
        "18. Create a class House with attributes address and price. Create a derived class Mansion that adds an\n",
        "attribute number_of_rooms."
      ],
      "metadata": {
        "id": "JoDDBxM8uBNx"
      }
    },
    {
      "cell_type": "code",
      "source": [
        "# Base class\n",
        "class House:\n",
        "    def __init__(self, address, price):\n",
        "        self.address = address\n",
        "        self.price = price\n",
        "\n",
        "# Derived class\n",
        "class Mansion(House):\n",
        "    def __init__(self, address, price, number_of_rooms):\n",
        "        super().__init__(address, price)\n",
        "        self.number_of_rooms = number_of_rooms\n",
        "\n",
        "# Example usage\n",
        "if __name__ == \"__main__\":\n",
        "    house = House(\"123 Main Street\", 250000)\n",
        "    mansion = Mansion(\"456 Luxury Ave\", 2500000, 10)\n",
        "\n",
        "    print(f\"House Address: {house.address}, Price: ${house.price}\")\n",
        "    print(f\"Mansion Address: {mansion.address}, Price: ${mansion.price}, Rooms: {mansion.number_of_rooms}\")\n"
      ],
      "metadata": {
        "colab": {
          "base_uri": "https://localhost:8080/"
        },
        "id": "OV2rm2sSuFls",
        "outputId": "b9262782-c1b1-409f-82ce-a32f7111db32"
      },
      "execution_count": 23,
      "outputs": [
        {
          "output_type": "stream",
          "name": "stdout",
          "text": [
            "House Address: 123 Main Street, Price: $250000\n",
            "Mansion Address: 456 Luxury Ave, Price: $2500000, Rooms: 10\n"
          ]
        }
      ]
    }
  ]
}